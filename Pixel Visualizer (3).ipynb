{
 "cells": [
  {
   "cell_type": "code",
   "execution_count": 1,
   "id": "85eca146-6544-4fcf-bfeb-bfcfa9efc7dc",
   "metadata": {},
   "outputs": [],
   "source": [
    "#import libraries\n",
    "import cv2 as cv\n",
    "import numpy as np\n",
    "import webbrowser"
   ]
  },
  {
   "cell_type": "code",
   "execution_count": 3,
   "id": "bd712519-6e64-41d5-87b4-a8a6d0abf386",
   "metadata": {},
   "outputs": [],
   "source": [
    "img=cv.imread(\"C://Users//asifa//Downloads//Plane.jpg\",1)\n",
    "cv.imshow(\"Image\", img)\n",
    "cv.waitKey(0)\n",
    "cv.destroyAllWindows()"
   ]
  },
  {
   "cell_type": "code",
   "execution_count": 5,
   "id": "e770e4f8-6f3e-4aa6-923b-c6ebb6ecc0d4",
   "metadata": {},
   "outputs": [
    {
     "data": {
      "text/plain": [
       "(2616, 4485, 3)"
      ]
     },
     "execution_count": 5,
     "metadata": {},
     "output_type": "execute_result"
    }
   ],
   "source": [
    "img.shape"
   ]
  },
  {
   "cell_type": "code",
   "execution_count": 6,
   "id": "3baaf6f5-3e73-407b-8fac-c8e40cb5e060",
   "metadata": {},
   "outputs": [
    {
     "name": "stdout",
     "output_type": "stream",
     "text": [
      "762 , 176\n",
      "288 , 189\n",
      "505 , 532\n",
      "1217 , 191\n",
      "860 , 338\n",
      "Stored Coordinates: [(762, 176), (288, 189), (505, 532), (1217, 191), (860, 338)]\n",
      "RGB Values at (860, 338): R=111, G=165, B=193\n"
     ]
    }
   ],
   "source": [
    "import cv2 as cv\n",
    "\n",
    "# Global variable to store coordinates\n",
    "coordinates = []\n",
    "\n",
    "# Define the function\n",
    "def find_coord(event, x, y, flags, params):\n",
    "    global coordinates\n",
    "    if event == cv.EVENT_FLAG_LBUTTON:\n",
    "        coordinates.append((x, y))\n",
    "        print(x, ',', y)\n",
    "        font = cv.FONT_HERSHEY_PLAIN\n",
    "        cv.putText(img, str(x) + ',' + str(y), (x, y), font, 1, (255, 0, 0))\n",
    "        cv.imshow(\"image\", img)\n",
    "\n",
    "if __name__ == \"__main__\":\n",
    "    img = cv.imread(\"C://Users//asifa//Downloads//Plane.jpg\")\n",
    "    cv.imshow(\"image\", img)\n",
    "    cv.setMouseCallback(\"image\", find_coord)\n",
    "    \n",
    "    # Wait for user to press any key\n",
    "    cv.waitKey(0)\n",
    "    \n",
    "    # Display the stored coordinates\n",
    "    print(\"Stored Coordinates:\", coordinates)\n",
    "    \n",
    "    # Display RGB values of the last selected coordinate\n",
    "    if coordinates:\n",
    "        x, y = coordinates[-1]\n",
    "        B, G, R = img[y, x]\n",
    "        print(\"RGB Values at ({}, {}): R={}, G={}, B={}\".format(x, y, R, G, B))\n",
    "    \n",
    "    cv.destroyAllWindows()\n"
   ]
  },
  {
   "cell_type": "code",
   "execution_count": 7,
   "id": "13dccd4f-9720-4b7d-88e4-ab2ea6533a0b",
   "metadata": {},
   "outputs": [
    {
     "data": {
      "text/plain": [
       "True"
      ]
     },
     "execution_count": 7,
     "metadata": {},
     "output_type": "execute_result"
    }
   ],
   "source": [
    "\n",
    "webbrowser.open_new(\"https://htmlcolorcodes.com/\")\n"
   ]
  },
  {
   "cell_type": "code",
   "execution_count": 2,
   "id": "ef073a64-7bb2-409b-b86f-a5237f707901",
   "metadata": {},
   "outputs": [
    {
     "data": {
      "text/plain": [
       "True"
      ]
     },
     "execution_count": 2,
     "metadata": {},
     "output_type": "execute_result"
    }
   ],
   "source": [
    "\n",
    "webbrowser.open_new(\"https://www.csfieldguide.org.nz/en/interactives/pixel-viewer/\")\n"
   ]
  },
  {
   "cell_type": "code",
   "execution_count": null,
   "id": "94ff6e5d-e0bf-4742-a825-366b668b9e0b",
   "metadata": {},
   "outputs": [],
   "source": []
  }
 ],
 "metadata": {
  "kernelspec": {
   "display_name": "Python 3 (ipykernel)",
   "language": "python",
   "name": "python3"
  },
  "language_info": {
   "codemirror_mode": {
    "name": "ipython",
    "version": 3
   },
   "file_extension": ".py",
   "mimetype": "text/x-python",
   "name": "python",
   "nbconvert_exporter": "python",
   "pygments_lexer": "ipython3",
   "version": "3.10.6"
  }
 },
 "nbformat": 4,
 "nbformat_minor": 5
}
